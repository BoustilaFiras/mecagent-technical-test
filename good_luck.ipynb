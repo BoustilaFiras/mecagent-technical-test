{
 "cells": [
  {
   "cell_type": "markdown",
   "metadata": {},
   "source": [
    "## ENV SETUP"
   ]
  },
  {
   "cell_type": "markdown",
   "metadata": {},
   "source": [
    "1. Install uv (or do it you're own way)\n",
    "2. Run `uv sync`\n",
    "3. Run `source .venv/bin/activate`\n",
    "\n",
    "You're good to go."
   ]
  },
  {
   "cell_type": "markdown",
   "metadata": {},
   "source": [
    "# Instructions\n",
    "\n",
    "The Task : Create the best CadQuery code generator model. \n",
    "\n",
    "1. Load the dataset (147K pairs of Images/CadQuery code).\n",
    "2. Create a baseline model and evaluate it with the given metrics.\n",
    "3. Enhance by any manner the baseline model and evaluate it again.\n",
    "4. Explain you choices and possible bottlenecks. \n",
    "5. Show what enhancements you would have done if you had more time.\n",
    "\n",
    "You can do *WHATEVER* you want, be creative, result is not what matters the most. \n",
    "Creating new model architectures, reusing ones you used in the past, fine-tuning, etc...\n",
    "\n",
    "If you are GPU poor, there are solutions. Absolute value is not what matters, relative value between baseline and enhanced model is what matters."
   ]
  },
  {
   "cell_type": "code",
   "execution_count": 1,
   "metadata": {},
   "outputs": [
    {
     "name": "stderr",
     "output_type": "stream",
     "text": [
      "/home/boustilafiras/mecagent-technical-test/.venv/lib/python3.11/site-packages/tqdm/auto.py:21: TqdmWarning: IProgress not found. Please update jupyter and ipywidgets. See https://ipywidgets.readthedocs.io/en/stable/user_install.html\n",
      "  from .autonotebook import tqdm as notebook_tqdm\n"
     ]
    }
   ],
   "source": [
    "from datasets import load_dataset\n",
    "ds = load_dataset(\"CADCODER/GenCAD-Code\", num_proc=16, split=[\"train\", \"test\"], cache_dir=\"./hf_cache\")"
   ]
  },
  {
   "cell_type": "code",
   "execution_count": 2,
   "metadata": {},
   "outputs": [
    {
     "name": "stdout",
     "output_type": "stream",
     "text": [
      "Features et types pour le dataset 'train':\n",
      "- image: <class 'PIL.PngImagePlugin.PngImageFile'> (exemple: <PIL.PngImagePlugin.PngImageFile image mode=RGB size=448x448 at 0x7B718AF62E50>)\n",
      "- deepcad_id: <class 'str'> (exemple: '0000/00006371')\n",
      "- cadquery: <class 'str'> (exemple: 'import cadquery as cq\\n# Generating a workplane for sketch 0\\nwp_sketch0 = cq.Workplane(cq.Plane(cq)\n",
      "- token_count: <class 'int'> (exemple: 1292)\n",
      "- prompt: <class 'str'> (exemple: 'Generate the CADQuery code needed to create the CAD for the provided image. Just the code, no other)\n",
      "- hundred_subset: <class 'bool'> (exemple: False)\n",
      "\n",
      "Features et types pour le dataset 'test':\n",
      "- image: <class 'PIL.PngImagePlugin.PngImageFile'> (exemple: <PIL.PngImagePlugin.PngImageFile image mode=RGB size=448x448 at 0x7B718AF81950>)\n",
      "- deepcad_id: <class 'str'> (exemple: '0000/00009254')\n",
      "- cadquery: <class 'str'> (exemple: 'import cadquery as cq\\n# Generating a workplane for sketch 0\\nwp_sketch0 = cq.Workplane(cq.Plane(cq)\n",
      "- token_count: <class 'int'> (exemple: 1050)\n",
      "- prompt: <class 'str'> (exemple: 'Generate the CADQuery code needed to create the CAD for the provided image. Just the code, no other)\n",
      "- hundred_subset: <class 'bool'> (exemple: False)\n",
      "\n",
      "Schéma détaillé (features) pour le dataset 'train':\n",
      "{'image': Image(mode=None, decode=True, id=None), 'deepcad_id': Value(dtype='string', id=None), 'cadquery': Value(dtype='string', id=None), 'token_count': Value(dtype='int64', id=None), 'prompt': Value(dtype='string', id=None), 'hundred_subset': Value(dtype='bool', id=None)}\n",
      "\n",
      "Schéma détaillé (features) pour le dataset 'test':\n",
      "{'image': Image(mode=None, decode=True, id=None), 'deepcad_id': Value(dtype='string', id=None), 'cadquery': Value(dtype='string', id=None), 'token_count': Value(dtype='int64', id=None), 'prompt': Value(dtype='string', id=None), 'hundred_subset': Value(dtype='bool', id=None)}\n",
      "\n"
     ]
    }
   ],
   "source": [
    "# Afficher les features et leurs types pour chaque dataset (train et test) sans surcharger la mémoire\n",
    "for i, split in enumerate([\"train\", \"test\"]):\n",
    "    print(f\"Features et types pour le dataset '{split}':\")\n",
    "    sample = ds[i][0]\n",
    "    for col in ds[i].column_names:\n",
    "        print(f\"- {col}: {type(sample[col])} (exemple: {repr(sample[col])[:100]})\")\n",
    "    print()\n",
    "\n",
    "# Afficher les features détaillées (schéma HuggingFace) pour chaque split\n",
    "for i, split in enumerate([\"train\", \"test\"]):\n",
    "    print(f\"Schéma détaillé (features) pour le dataset '{split}':\")\n",
    "    print(ds[i].features)\n",
    "    print()"
   ]
  },
  {
   "cell_type": "markdown",
   "metadata": {},
   "source": [
    "## Evaluation Metrics"
   ]
  },
  {
   "cell_type": "markdown",
   "metadata": {},
   "source": [
    "1. Valid Syntax Rate metric assess the validity of the code by executing and checking if error are returned.\n",
    "2. Best IOU assess the similarity between the meshes generated by the code."
   ]
  },
  {
   "cell_type": "code",
   "execution_count": 3,
   "metadata": {},
   "outputs": [],
   "source": [
    "from metrics.valid_syntax_rate import evaluate_syntax_rate_simple\n",
    "from metrics.best_iou import get_iou_best"
   ]
  },
  {
   "cell_type": "code",
   "execution_count": 4,
   "metadata": {},
   "outputs": [
    {
     "name": "stdout",
     "output_type": "stream",
     "text": [
      "Valid Syntax Rate: 1.0\n",
      "IOU: 0.5834943417057687\n",
      "IOU: 0.5834943417057687\n"
     ]
    }
   ],
   "source": [
    "## Example usage of the metrics\n",
    "sample_code = \"\"\"\n",
    "height = 60.0\n",
    "width = 80.0\n",
    "thickness = 10.0\n",
    "diameter = 22.0\n",
    "\n",
    "# make the base\n",
    "result = (\n",
    "    cq.Workplane(\"XY\")\n",
    "    .box(height, width, thickness)\n",
    ")\n",
    "\"\"\"\n",
    "\n",
    "sample_code_2 = \"\"\"\n",
    " height = 60.0\n",
    " width = 80.0\n",
    " thickness = 10.0\n",
    " diameter = 22.0\n",
    " padding = 12.0\n",
    "\n",
    " # make the base\n",
    " result = (\n",
    "     cq.Workplane(\"XY\")\n",
    "     .box(height, width, thickness)\n",
    "     .faces(\">Z\")\n",
    "     .workplane()\n",
    "     .hole(diameter)\n",
    "     .faces(\">Z\")\n",
    "     .workplane()\n",
    "     .rect(height - padding, width - padding, forConstruction=True)\n",
    "     .vertices()\n",
    "     .cboreHole(2.4, 4.4, 2.1)\n",
    " )\n",
    "\"\"\"\n",
    "codes = {\n",
    "    \"sample_code\": sample_code,\n",
    "    \"sample_code_2\": sample_code_2,\n",
    "}\n",
    "vsr = evaluate_syntax_rate_simple(codes)\n",
    "print(\"Valid Syntax Rate:\", vsr)\n",
    "iou = get_iou_best(sample_code, sample_code_2)\n",
    "print(\"IOU:\", iou)"
   ]
  },
  {
   "cell_type": "markdown",
   "metadata": {},
   "source": [
    "## Have Fun"
   ]
  }
 ],
 "metadata": {
  "kernelspec": {
   "display_name": ".venv",
   "language": "python",
   "name": "python3"
  },
  "language_info": {
   "codemirror_mode": {
    "name": "ipython",
    "version": 3
   },
   "file_extension": ".py",
   "mimetype": "text/x-python",
   "name": "python",
   "nbconvert_exporter": "python",
   "pygments_lexer": "ipython3",
   "version": "3.11.13"
  }
 },
 "nbformat": 4,
 "nbformat_minor": 2
}
